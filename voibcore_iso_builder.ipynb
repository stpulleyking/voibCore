{
  "nbformat": 4,
  "nbformat_minor": 0,
  "metadata": {
    "colab": {
      "provenance": []
    },
    "kernelspec": {
      "name": "python3",
      "display_name": "Python 3"
    },
    "language_info": {
      "name": "python"
    }
  },
  "cells": [
    {
      "cell_type": "code",
      "source": [
        "# Step 1: Install tools\n",
        "!apt-get update > /dev/null\n",
        "!apt-get install -y nasm xorriso grub-pc-bin mtools > /dev/null\n",
        "\n",
        "# Step 2: Write voibcore.asm\n",
        "asm_code = \"\"\"\n",
        "[org 0x7c00]\n",
        "\n",
        "start:\n",
        "    call clear_screen\n",
        "\n",
        ".loop:\n",
        "    call wait_key\n",
        "    call draw_raw\n",
        "    jmp .loop\n",
        "\n",
        "wait_key:\n",
        "    mov ah, 0\n",
        "    int 0x16       ; read key to AL\n",
        "    ret\n",
        "\n",
        "draw_raw:\n",
        "    mov ah, 0x0E   ; teletype BIOS output\n",
        "    mov bh, 0x00\n",
        "    mov bl, 0x07   ; light gray on black\n",
        "    int 0x10\n",
        "    ret\n",
        "\n",
        "clear_screen:\n",
        "    mov ah, 0x06\n",
        "    mov al, 0\n",
        "    mov bh, 0x07\n",
        "    mov cx, 0x0000\n",
        "    mov dx, 0x184F\n",
        "    int 0x10\n",
        "    ret\n",
        "\n",
        "times 510 - ($ - $$) db 0\n",
        "dw 0xAA55\n",
        "\"\"\"\n",
        "with open(\"voibcore.asm\", \"w\") as f:\n",
        "    f.write(asm_code)\n",
        "\n",
        "# Step 3: Assemble to binary\n",
        "!nasm -f bin voibcore.asm -o boot.img\n",
        "\n",
        "# Step 4: Prepare ISO structure\n",
        "!mkdir -p iso/boot/grub\n",
        "!cp boot.img iso/boot/boot.img\n",
        "\n",
        "# Step 5: Write GRUB config\n",
        "with open(\"iso/boot/grub/grub.cfg\", \"w\") as f:\n",
        "    f.write(\"\"\"\n",
        "set timeout=0\n",
        "set default=0\n",
        "\n",
        "menuentry \"VOIBCORE\" {\n",
        "  linux16 /boot/boot.img\n",
        "}\n",
        "\"\"\")\n",
        "\n",
        "# Step 6: Build ISO\n",
        "!grub-mkrescue -o voibcore.iso iso > /dev/null 2>&1 || \\\n",
        " xorriso -as mkisofs -R -b boot/boot.img -no-emul-boot -boot-load-size 4 -boot-info-table -o voibcore.iso iso\n",
        "\n",
        "# Step 7: Download ISO\n",
        "from google.colab import files\n",
        "files.download(\"voibcore.iso\")\n"
      ],
      "metadata": {
        "colab": {
          "base_uri": "https://localhost:8080/",
          "height": 54
        },
        "id": "VkfS9dx9mw_T",
        "outputId": "0621b33d-85a2-4a98-b254-6d6f8b058173"
      },
      "execution_count": 2,
      "outputs": [
        {
          "output_type": "stream",
          "name": "stdout",
          "text": [
            "W: Skipping acquire of configured file 'main/source/Sources' as repository 'https://r2u.stat.illinois.edu/ubuntu jammy InRelease' does not seem to provide it (sources.list entry misspelt?)\n"
          ]
        },
        {
          "output_type": "display_data",
          "data": {
            "text/plain": [
              "<IPython.core.display.Javascript object>"
            ],
            "application/javascript": [
              "\n",
              "    async function download(id, filename, size) {\n",
              "      if (!google.colab.kernel.accessAllowed) {\n",
              "        return;\n",
              "      }\n",
              "      const div = document.createElement('div');\n",
              "      const label = document.createElement('label');\n",
              "      label.textContent = `Downloading \"${filename}\": `;\n",
              "      div.appendChild(label);\n",
              "      const progress = document.createElement('progress');\n",
              "      progress.max = size;\n",
              "      div.appendChild(progress);\n",
              "      document.body.appendChild(div);\n",
              "\n",
              "      const buffers = [];\n",
              "      let downloaded = 0;\n",
              "\n",
              "      const channel = await google.colab.kernel.comms.open(id);\n",
              "      // Send a message to notify the kernel that we're ready.\n",
              "      channel.send({})\n",
              "\n",
              "      for await (const message of channel.messages) {\n",
              "        // Send a message to notify the kernel that we're ready.\n",
              "        channel.send({})\n",
              "        if (message.buffers) {\n",
              "          for (const buffer of message.buffers) {\n",
              "            buffers.push(buffer);\n",
              "            downloaded += buffer.byteLength;\n",
              "            progress.value = downloaded;\n",
              "          }\n",
              "        }\n",
              "      }\n",
              "      const blob = new Blob(buffers, {type: 'application/binary'});\n",
              "      const a = document.createElement('a');\n",
              "      a.href = window.URL.createObjectURL(blob);\n",
              "      a.download = filename;\n",
              "      div.appendChild(a);\n",
              "      a.click();\n",
              "      div.remove();\n",
              "    }\n",
              "  "
            ]
          },
          "metadata": {}
        },
        {
          "output_type": "display_data",
          "data": {
            "text/plain": [
              "<IPython.core.display.Javascript object>"
            ],
            "application/javascript": [
              "download(\"download_c7bd1242-1b16-43f6-a849-0e67065d9715\", \"voibcore.iso\", 5068800)"
            ]
          },
          "metadata": {}
        }
      ]
    }
  ]
}